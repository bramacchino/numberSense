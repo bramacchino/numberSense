{
 "cells": [
  {
   "cell_type": "markdown",
   "metadata": {},
   "source": [
    "This notebook requires latex_env nbextension for a correct visualization. Download and Installation's instructions available at\n",
    "http://jupyter-contrib-nbextensions.readthedocs.io/en/latest/nbextensions/latex_envs/README.html"
   ]
  },
  {
   "cell_type": "markdown",
   "metadata": {},
   "source": [
    "# Reducing row echelon form #\n",
    "\n",
    "\\begin{definition}\n",
    "two $n \\times m$ matrices $A,B$ are row equivalent if there exists an invertible matrix $M$ with $B = MA$\n",
    "\\end{definition}\n",
    "\n",
    "Recall the following fact: \n",
    "\n",
    "\\begin{proposition}\n",
    "Proposition: Two matrices are row equivalent if and only if they represent the same linear map V \\to W up to a choice of basis for W.\n",
    "\\end{proposition}\n",
    "\n",
    "\n",
    "Any  (possibly not square)  finite matrix  $B$  can be reduced in many ways by a finite sequence\n",
    "of   Elementary Row-Operations $E_1, E_2, ...,E_m$, each one invertible,  to a Reduced Row-Echelon Form (RREF)\n",
    "$$U :=  E_m \\cdot\\cdot\\cdot E_2 \\cdot E_1 \\cdot B $$\n",
    "\n",
    "characterized by three properties:\n",
    "1. The first nonzero element in any nonzero row is  “1” .\n",
    "2. Each nonzero row's leading  “1”  comes in a column whose every other element is  “0” .\n",
    "3. Each such leading  “1”  comes in a column after every preceeding row's leading zeros.\n",
    "\n",
    "The entries which contain leading '1' so defined are called pivots. "
   ]
  },
  {
   "cell_type": "code",
   "execution_count": 5,
   "metadata": {
    "collapsed": false
   },
   "outputs": [
    {
     "name": "stdout",
     "output_type": "stream",
     "text": [
      "[[1 2 3 4 5]\n",
      " [1 2 3 4 6]\n",
      " [1 0 0 2 3]]\n",
      "(Matrix([\n",
      "[1, 0,   0, 2, 0],\n",
      "[0, 1, 3/2, 1, 0],\n",
      "[0, 0,   0, 0, 1]]), (0, 1, 4))\n"
     ]
    }
   ],
   "source": [
    "import numpy as np \n",
    "import sympy \n",
    "\n",
    "M = np.array([[1,2,3,4,5],[1,2,3,4,6],[1,0,0,2,3]])\n",
    "print(M)\n",
    "print(sympy.Matrix(M).rref())"
   ]
  },
  {
   "cell_type": "markdown",
   "metadata": {},
   "source": [
    "https://www.csun.edu/~panferov/math262/262_rref.pdf\n",
    "\n",
    "https://www.math.purdue.edu/~shao92/documents/Algorithm%20REF.pdf\n",
    "\n",
    "http://www.math.jhu.edu/~bernstein/math201/RREF.pdf\n",
    "\n",
    "The reduced row echelon form is canonical, meaning it is uniquely determined for any matrix (this is not obvious, but for brevity we refer the reader to an external proof).\n",
    "https://people.eecs.berkeley.edu/~wkahan/MathH110/RREF1.pdf\n",
    "\n",
    "https://www.di-mgt.com.au/matrixtransform.html, indeed the algorithm is gauss jordan elimination (check also this link\n",
    "https://gist.github.com/num3ric/1357315) \n",
    "We can deduce many useful facts about a matrix once it has been transformed to its canonical form. Let A denote a general matrix and let E\n",
    "\n",
    "denote its RREF form.\n",
    "\n",
    "Every matrix A\n",
    "\n",
    "is row equivalent to a unique matrix E\n",
    "in row canonical (RREF) form.\n",
    "    This means the form and elements of E are uniquely determined by A. So, if two matrices M and N both reduce to the same row canonical form E, then M∼N\n",
    "    . \n",
    "The rank of a matrix A\n",
    "is equal to the number of pivots in E\n",
    ".\n",
    "    This is one definition of rank. We write this as rank(A) or rk(A)\n",
    "    . The rank of a matrix is equal to the dimension of both the row space and the column space. \n",
    "All invertible matrices reduce to the identity matrix I\n",
    ".\n",
    "    If the n×n matrix A is invertible, then E is always the n×n identity matrix. \n",
    "    "
   ]
  },
  {
   "cell_type": "markdown",
   "metadata": {},
   "source": [
    "## Elementary row operations: ##\n",
    "\n",
    "Recall the elementary row operations: \n",
    "\n",
    "https://www.khanacademy.org/math/precalculus/precalc-matrices/elementary-matrix-row-operations/a/matrix-row-operations\n",
    "\n",
    " 1. switch any two rows,\n",
    " 2. multiply any row by a nonzero constant,\n",
    " 3. add a nonzero (multiple of one) row to another row.\n",
    "\n",
    "Elementary row operation corresponds to left multiplication of an appropriate matrix (elementary Matrix). Therefore. let $M$ be an $n \\times m$ matrix,\n",
    "1. $R_i \\leftrightarrow R_j$ := $M \\cdot I$ swapped \n",
    "2. $R_i \\leftrightarrow cR_i$ := $M \\cdot I$ with c on the ith entry \n",
    "3. $R_i + R_j \\to R_k$ := $M \\cdot I$ with 1 (or c) on the ith and jth entries\n",
    "\n",
    "***\n",
    "The identity Matrix is, elementary, an elementary matrix. \n",
    "Elementary Matrices are invertible, and the inverse is an elementary matrix. \n",
    "And every product of elementary matrices is invertible. \n",
    "\n",
    "Therefore we have the structure of a group, called the general linear group. (See Lie Groups)\n",
    "***\n",
    "\n",
    "https://www.youtube.com/watch?v=l69YjkuUym0\n",
    "\n",
    "Is this the case? \n",
    "\n",
    "Echelon\n",
    "    (military) a formation in which units follow one another but are offset sufficiently to allow each unit a clear line of fire ahead.\n",
    "    A step-like formation of troops.\n",
    "    Any structure or group of structures arranged in a steplike form. \n",
    "\n",
    "In other words, in echelon formation we arrange things so the row behind you won't shoot you. \n"
   ]
  },
  {
   "cell_type": "code",
   "execution_count": 1,
   "metadata": {
    "collapsed": false
   },
   "outputs": [
    {
     "name": "stdout",
     "output_type": "stream",
     "text": [
      "[[-9.          0.          0.          0.        ]\n",
      " [ 0.45454545  1.          0.          0.        ]\n",
      " [ 0.54545455  0.          1.          0.        ]\n",
      " [ 0.27272727  0.          0.          1.        ]]\n",
      "[[-2 -2  4 -2]\n",
      " [-2  1 10  7]\n",
      " [-4 -4 -8  4]\n",
      " [ 4 -1 14  6]]\n"
     ]
    }
   ],
   "source": [
    "import numpy as np\n",
    "\n",
    "def rref(matrix):\n",
    "    # Check matrix dimension (useless in numpy)\n",
    "   numRows = len(matrix)\n",
    "   numCols = len(matrix[0])\n",
    "   nonzeroRow = 0\n",
    "   \n",
    "    # Initialize to 0,0\n",
    "   i,j = 0,0\n",
    "\n",
    "   while True:\n",
    "        # Loop forever, and break when exceed indexes \n",
    "        # Why this choice? \n",
    "      if i >= numRows or j >= numCols:\n",
    "         break\n",
    "            \n",
    "     # We are working over a field, any non 0 entry can be a pivot \n",
    "     # Search column wise for a non zero element \n",
    "        \n",
    "      if matrix[i][j] == 0:\n",
    "         nonzeroRow = i\n",
    "         while nonzeroRow < numRows and matrix[nonzeroRow][j] == 0:\n",
    "            nonzeroRow += 1\n",
    "      # if none is found, check the next column \n",
    "      if nonzeroRow == numRows:\n",
    "         j += 1\n",
    "        # Go back at the beginning of the while loop \n",
    "         continue\n",
    "      \n",
    "    # swap the two rows\n",
    "      temp = matrix[i]\n",
    "      matrix[i] = matrix[nonzeroRow]\n",
    "      matrix[nonzeroRow] = temp\n",
    "   # save the pivot value \n",
    "      pivot = matrix[i][j]\n",
    "    # Once we have found a pivot, we simply need to eliminate the remaining entries in the column.\n",
    "    #We know this won’t affect any previously inspected columns, \n",
    "    #because by the inductive hypothesis any entries which are to the left of our pivot are zero.???\n",
    "    # normalize, so the first is one is what is going on \n",
    "      matrix[i] = [x / pivot for x in matrix[i]]\n",
    "    \n",
    "      for otherRow in range(0, numRows):\n",
    "         if otherRow == i:\n",
    "             continue\n",
    "         if matrix[otherRow][j] != 0:\n",
    "            matrix[otherRow] = [y - matrix[otherRow][j]*x\n",
    "             for (x,y) in zip(matrix[i], matrix[otherRow])]\n",
    "\n",
    "      i += 1; j+= 1\n",
    "\n",
    "   return matrix\n",
    "\n",
    "\n",
    "        \n",
    "# Note this works with python lists\n",
    "# To Rewrite it in numpy for God's sake \n",
    "bd1 = np.array([[-1,-1,-1,-1,0,0,0,0], [1,0,0,0,-1,-1,0,0],\n",
    "     [0,1,0,0,1,0,-1,-1], [0,0,1,0,0,1,1,0], [0,0,0,1,0,0,0,1]])\n",
    "test = np.array([[-2,-2,4,-2],[-2,1,10,7],[-4,-4,-8,4],[4,-1,14,6]])\n",
    "M = np.array([[1,2,3,4,5],[1,2,3,4,6],[1,0,0,2,3]])\n",
    "toReduce = test.T.tolist()\n",
    "print(np.array(rref(toReduce)))\n",
    "print(test)"
   ]
  },
  {
   "cell_type": "code",
   "execution_count": null,
   "metadata": {
    "collapsed": true
   },
   "outputs": [],
   "source": []
  }
 ],
 "metadata": {
  "kernelspec": {
   "display_name": "Python 3",
   "language": "python",
   "name": "python3"
  },
  "language_info": {
   "codemirror_mode": {
    "name": "ipython",
    "version": 3
   },
   "file_extension": ".py",
   "mimetype": "text/x-python",
   "name": "python",
   "nbconvert_exporter": "python",
   "pygments_lexer": "ipython3",
   "version": "3.5.2"
  }
 },
 "nbformat": 4,
 "nbformat_minor": 2
}
