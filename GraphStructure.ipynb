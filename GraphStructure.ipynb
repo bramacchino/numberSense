{
 "cells": [
  {
   "cell_type": "markdown",
   "metadata": {},
   "source": [
    "(NOTES, Learning Graphs in Python): material not yet organized \n",
    "\n",
    "This notebook requires, igraph, cairo: Installation instructions provided \n",
    "\n",
    "# Graph Structure #\n",
    "\n",
    "[Pros/Cons Adjacency Lists/Matrices](https://www.quora.com/What-are-the-pros-and-cons-of-representing-a-graph-in-an-adjacency-list-an-adjacency-matrix-and-objects-classes)\n",
    "\n",
    "[Pros/Cons Adjacency Lists/Matrices - When to use](http://www.cs.cornell.edu/courses/cs211/2006fa/Lectures/L22-More%20Graphs/L22cs211fa06.pdf)\n",
    "\n",
    "[Sparse (adjacency) Matrices in scipy](https://docs.scipy.org/doc/scipy/reference/sparse.csgraph.html)\n",
    "as explained in \n",
    "https://codereview.stackexchange.com/questions/95598/order-a-list-of-tuples-or-a-numpy-array-in-a-specific-format\n",
    "\n",
    "Great introduction (not only) \n",
    "https://www.python-course.eu/graphs_python.php\n",
    "\n",
    "Graphs as Objects:\n",
    "https://triangleinequality.wordpress.com/2013/08/21/graphs-as-objects-in-python/\n",
    "\n",
    "Graph theory libraries are available for python:\n",
    "(Some useful comments on them https://www.quora.com/What-is-the-best-Python-graph-library)\n",
    "\n",
    "http://networkx.github.io/ (slower, easiest)\n",
    "\n",
    "http://igraph.org/ (faster, not complicated, not great documentation)\n",
    "\n",
    "https://graph-tool.skewed.de/ (fastest, but hard to install: https://graph-tool.skewed.de/performance, and requires attention https://stackoverflow.com/questions/36193773/graph-tool-surprisingly-slow-compared-to-networkx) "
   ]
  },
  {
   "cell_type": "markdown",
   "metadata": {},
   "source": [
    "### Let's have a look at igraph ### \n",
    "\n",
    "Installation instruction at http://igraph.wikidot.com/installing-python-igraph-on-linux\n",
    "\n",
    "In Linux Mint 18 everything was pretty smooth,  \n",
    "\n",
    "\\>> sudo apt-get install -y libigraph0-dev\n",
    "\n",
    "for installing the igraph libraries \n",
    "\n",
    "\\>> sudo pip3 install python-igraph\n",
    "\n",
    "for compiling python-igraph \n",
    "\n",
    "The getting-start tutorial http://igraph.org/python/doc/tutorial/tutorial.html, the API documentation is available at http://igraph.org/python/doc/igraph-module.html (https://github.com/igraph/python-igraph/tree/master/doc/source)"
   ]
  },
  {
   "cell_type": "code",
   "execution_count": 17,
   "metadata": {
    "collapsed": false
   },
   "outputs": [],
   "source": [
    "from igraph import Graph, summary \n",
    "\n",
    "g = Graph()\n",
    "g.add_vertices(3) #0,1,2\n",
    "#g.add_vertices([0,1,2])\n",
    "g.add_edges([(0,1), (1,2)])\n",
    "g.add_vertices(3)\n",
    "#g.delete_vertices([1,2])  try out, deleting vertices delete also the incident edges \n",
    "g.add_edges([(2,3),(3,4),(4,5),(5,3)])\n",
    "g.delete_edges(g.get_eid(2,3)) #Note that edges and vertices IDs are `continuous`, that is when one removed, \n",
    "#the successives are renamed, however attributes may be added\n"
   ]
  },
  {
   "cell_type": "code",
   "execution_count": 104,
   "metadata": {
    "collapsed": false
   },
   "outputs": [
    {
     "name": "stdout",
     "output_type": "stream",
     "text": [
      "IGRAPH U--- 3 0 --\n",
      "+ attr: ciao (v)\n",
      "IGRAPH U--- 3 0 -- \n",
      "+ attr: ciao (v)\n"
     ]
    }
   ],
   "source": [
    "print(g)\n",
    "summary(g)"
   ]
  },
  {
   "cell_type": "code",
   "execution_count": 19,
   "metadata": {
    "collapsed": false
   },
   "outputs": [
    {
     "data": {
      "text/plain": [
       "False"
      ]
     },
     "execution_count": 19,
     "metadata": {},
     "output_type": "execute_result"
    }
   ],
   "source": [
    "g2 = Graph.Tree(127, 2)\n",
    "g2.get_edgelist()[0:10]\n",
    "g.isomorphic(g2)"
   ]
  },
  {
   "cell_type": "code",
   "execution_count": 20,
   "metadata": {
    "collapsed": false
   },
   "outputs": [
    {
     "data": {
      "image/png": "[encoded data removed]",
      "text/plain": [
       "<igraph.drawing.Plot at 0x7f8f9748c898>"
      ]
     },
     "execution_count": 20,
     "metadata": {},
     "output_type": "execute_result"
    }
   ],
   "source": [
    "from igraph import *\n",
    "\n",
    "vertices = [\"one\", \"two\", \"three\"]\n",
    "edges = [(0,2),(2,1),(0,1)]\n",
    "\n",
    "g = Graph(vertex_attrs={\"label\": vertices}, edges=edges, directed=True)\n",
    "visual_style = {}\n",
    "visual_style[\"bbox\"] = (300, 300)\n",
    "plot(g, **visual_style)"
   ]
  },
  {
   "cell_type": "markdown",
   "metadata": {},
   "source": [
    "## igraph  Visualization ##\n",
    "\n",
    "Based on Cairo (and pycairo, bindings). \n",
    "\n",
    "The installation in Linux Mint 18 has been pretty smooth. The following passage were needed\n",
    "\n",
    "sudo add-apt-repository ppa:ricotz/testing\n",
    "sudo apt-get update\n",
    "sudo apt-get install libcairo2-dev\n",
    "\n",
    "cd ~\n",
    "git clone https://github.com/pygobject/pycairo.git\n",
    "\n",
    "cd pycairo \n",
    "sudo python3 setup.py install\n",
    "\n",
    "Moreover, for python3, it was necessary to slightly modify the __init__py file in igraph/drawing raw 354 from io.getvalue().encode('utf-8) to io.getvalue().decode('utf-8)\n",
    "\n",
    "Indeed this is a known issue: https://github.com/igraph/python-igraph/commit1/8864b46849b031a3013764d03e167222963c0f5d?diff=split#diff-32d2a59da2ec039816077b378595d915 \n",
    "\n",
    "For a correct visualization in jupyter notebook another hack is necessary: https://stackoverflow.com/questions/30640489/issue-plotting-vertex-labels-using-igraph-in-ipython, https://stackoverflow.com/questions/30632412/python-igraph-vertex-labels-in-ipython-notebook"
   ]
  },
  {
   "cell_type": "code",
   "execution_count": 21,
   "metadata": {
    "collapsed": false
   },
   "outputs": [],
   "source": [
    "import cairo"
   ]
  },
  {
   "cell_type": "code",
   "execution_count": 22,
   "metadata": {
    "collapsed": false
   },
   "outputs": [
    {
     "name": "stdout",
     "output_type": "stream",
     "text": [
      "IGRAPH D--- 3 3 --\n",
      "+ attr: label (v)\n",
      "+ edges:\n",
      "0->2 2->1 0->1\n"
     ]
    },
    {
     "data": {
      "image/png": "[encoded data removed]",
      "text/plain": [
       "<igraph.drawing.Plot at 0x7f8f9748c630>"
      ]
     },
     "execution_count": 22,
     "metadata": {},
     "output_type": "execute_result"
    }
   ],
   "source": [
    "from igraph import plot \n",
    "print(g)\n",
    "visual_style = {}\n",
    "layout = g.layout(\"tree\")\n",
    "visual_style[\"bbox\"] = (300, 300)\n",
    "plot(g, layout = layout, **visual_style)"
   ]
  },
  {
   "cell_type": "markdown",
   "metadata": {},
   "source": [
    "Various layouts are available: \n",
    "- circle, drl, lgl, fr, grid_fr (https://github.com/gephi/gephi/wiki/Fruchterman-Reingold), kk (https://pdfs.semanticscholar.org/b8d3/bca50ccc573c5cb99f7d201e8acce6618f04.pdf), random, tree (rt, http://hci.stanford.edu/courses/cs448b/f09/lectures/CS448B-20091021-GraphsAndTrees.pdf), \n",
    "- fr3d, kk3d, random3d, sphere not plottable in python: https://stackoverflow.com/questions/16907564/how-can-i-plot-a-3d-graph-in-python-with-igraph\n",
    "- grid_fr listed in the documentation, but not implemented "
   ]
  },
  {
   "cell_type": "code",
   "execution_count": 23,
   "metadata": {
    "collapsed": false
   },
   "outputs": [],
   "source": [
    "g.write_adjacency('name')"
   ]
  },
  {
   "cell_type": "code",
   "execution_count": 24,
   "metadata": {
    "collapsed": false
   },
   "outputs": [
    {
     "name": "stderr",
     "output_type": "stream",
     "text": [
      "/home/clint/.local/lib/python3.5/site-packages/ipykernel/__main__.py:1: RuntimeWarning: names attribute does not exists at foreign.c:1697\n",
      "  if __name__ == '__main__':\n",
      "/home/clint/.local/lib/python3.5/site-packages/ipykernel/__main__.py:1: RuntimeWarning: weights attribute does not exists at foreign.c:1713\n",
      "  if __name__ == '__main__':\n"
     ]
    }
   ],
   "source": [
    "g.write_lgl('adjacency_list')"
   ]
  },
  {
   "cell_type": "markdown",
   "metadata": {},
   "source": [
    "Your best bet is probably GraphML or GML if you want to save igraph graphs in a format that can be read from an external package and you want to preserve numeric and string attributes"
   ]
  },
  {
   "cell_type": "markdown",
   "metadata": {
    "collapsed": true
   },
   "source": [
    "## Attributes: ## \n",
    "attached to vertex, edge and graphs. The igraph vertex, edge, graphs objects behaves a standard Phython dic, such that the key (a string) is the name of the attribute, and the value represent the attribute. \n",
    "***\n",
    "Note, if attribute $\\neq$ string or number, e.g. object, use pickle if you wish to `save' the graph\n",
    "***\n",
    "\n",
    "g.vs (vertices), g.es (edges)\n"
   ]
  },
  {
   "cell_type": "code",
   "execution_count": 25,
   "metadata": {
    "collapsed": false
   },
   "outputs": [
    {
     "name": "stdout",
     "output_type": "stream",
     "text": [
      "{'is_formal': True}\n",
      "0\n",
      "0\n",
      "1\n",
      "(0, 1)\n"
     ]
    },
    {
     "data": {
      "image/png": "[encoded data removed]",
      "text/plain": [
       "<igraph.drawing.Plot at 0x7f8f97444550>"
      ]
     },
     "execution_count": 25,
     "metadata": {},
     "output_type": "execute_result"
    }
   ],
   "source": [
    "from igraph import plot \n",
    "# Create a Graph g with \n",
    "g = Graph([(0,1), (0,2), (2,3), (3,4), (4,2), (2,5), (5,0), (6,3), (5,6)])\n",
    "# To change the attribute of all vertices\n",
    "g.vs[\"name\"] = [\"Alice\", \"Bob\", \"Claire\", \"Dennis\", \"Esther\", \"Frank\", \"George\"]\n",
    "# To change the attribute of all edges \n",
    "g.es[\"is_formal\"] = [False, False, True, True, True, False, True, False, False]\n",
    "# To change the attribute of a single vertex \n",
    "g.es[0]['is_formal'] =  True \n",
    "print(g.es[0].attributes()) #available also for g.vs\n",
    "print(g.es[0].index) #available also for g.vs\n",
    "print(g.es[0].source)\n",
    "print(g.es[0].target)\n",
    "print(g.es[0].tuple)\n",
    "g.vs[\"label\"] = g.vs[\"name\"]\n",
    "g[\"name\"] = \"First Graph\"\n",
    "del g[\"name\"]\n",
    "plot(g, layout='kk')"
   ]
  },
  {
   "cell_type": "markdown",
   "metadata": {},
   "source": [
    "### Attribute based querying: ###\n",
    "select behave like filter (see filter,map, reduce), depending on the parameter: \n",
    "_degree := positional arguments before keyword arguments \n",
    "a function := vertex included if the function return true (similar to filter)\n",
    "iterable := integers taken as indexes (the rest is ignored)\n",
    "\n",
    "select accept also the following keywords: \n",
    "name_eq, name_ne, name_lt, name_le, name_gt, name_ge, name_in, name_notin\n",
    "That is the attribute value must be (equal, or greather then, etc..) to the value of the keyword\n",
    "***\n",
    "Note there are more"
   ]
  },
  {
   "cell_type": "code",
   "execution_count": 10,
   "metadata": {
    "collapsed": false
   },
   "outputs": [
    {
     "data": {
      "text/plain": [
       "<igraph.VertexSeq at 0x7f8fb40486d8>"
      ]
     },
     "execution_count": 10,
     "metadata": {},
     "output_type": "execute_result"
    }
   ],
   "source": [
    "g.vs.select(_degree = g.maxdegree())[\"name\"]\n",
    "g.vs.select(name_eq=\"pet\")"
   ]
  },
  {
   "cell_type": "markdown",
   "metadata": {},
   "source": [
    "## Structural properties of a graph ##\n",
    "degree(), betweeness(), edge_betweeness(), "
   ]
  },
  {
   "cell_type": "markdown",
   "metadata": {},
   "source": [
    "# Some examples# "
   ]
  },
  {
   "cell_type": "code",
   "execution_count": 11,
   "metadata": {
    "collapsed": false
   },
   "outputs": [
    {
     "data": {
      "image/png": "[encoded data removed]",
      "text/plain": [
       "<igraph.drawing.Plot at 0x7f8fb4050b00>"
      ]
     },
     "execution_count": 11,
     "metadata": {},
     "output_type": "execute_result"
    }
   ],
   "source": [
    "# Styling graph \n",
    "from igraph import *\n",
    "import numpy as np\n",
    "\n",
    "# Create the graph\n",
    "vertices = [\"one\", \"two\", \"three\"]\n",
    "edges = [(0,2),(2,1),(0,1)]\n",
    "\n",
    "g = Graph(vertex_attrs={\"label\": vertices}, edges=edges, directed=True)\n",
    "\n",
    "visual_style = {}\n",
    "\n",
    "# Scale vertices based on degree\n",
    "outdegree = g.outdegree()\n",
    "visual_style[\"vertex_size\"] = [x/max(outdegree)*50+110 for x in outdegree]\n",
    "\n",
    "# Set bbox and margin\n",
    "visual_style[\"bbox\"] = (800,800)\n",
    "visual_style[\"margin\"] = 100\n",
    "\n",
    "# Define colors used for outdegree visualization\n",
    "colours = ['#fecc5c', '#a31a1c']\n",
    "\n",
    "# Order vertices in bins based on outdegree\n",
    "bins = np.linspace(0, max(outdegree), len(colours))  \n",
    "digitized_degrees =  np.digitize(outdegree, bins)\n",
    "\n",
    "# Set colors according to bins\n",
    "g.vs[\"color\"] = [colours[x-1] for x in digitized_degrees]\n",
    "\n",
    "# Also color the edges\n",
    "for ind, color in enumerate(g.vs[\"color\"]):\n",
    "        edges = g.es.select(_source=ind)\n",
    "        edges[\"color\"] = [color]\n",
    "        \n",
    "# Don't curve the edges\n",
    "visual_style[\"edge_curved\"] = False\n",
    "visual_style[\"bbox\"] = (500, 500)\n",
    "# Plot the graph\n",
    "plot(g, **visual_style)"
   ]
  },
  {
   "cell_type": "code",
   "execution_count": 12,
   "metadata": {
    "collapsed": false
   },
   "outputs": [
    {
     "data": {
      "image/png": "[encoded data removed]",
      "text/plain": [
       "<igraph.drawing.Plot at 0x7f8f97444a90>"
      ]
     },
     "execution_count": 12,
     "metadata": {},
     "output_type": "execute_result"
    }
   ],
   "source": [
    "# Community detection \n",
    "# https://stackoverflow.com/questions/25254151/using-igraph-in-python-for-community-detection-and-writing-community-number-for\n",
    "\n",
    "from igraph import *\n",
    "import numpy as np\n",
    "\n",
    "# Create the graph\n",
    "vertices = [i for i in range(7)]\n",
    "edges = [(0,2),(0,1),(0,3),(1,0),(1,2),(1,3),(2,0),(2,1),(2,3),(3,0),(3,1),(3,2),(2,4),(4,5),(4,6),(5,4),(5,6),(6,4),(6,5)]\n",
    "\n",
    "g = Graph(vertex_attrs={\"label\":vertices}, edges=edges, directed=True)\n",
    "\n",
    "visual_style = {}\n",
    "\n",
    "# Scale vertices based on degree\n",
    "outdegree = g.outdegree()\n",
    "visual_style[\"vertex_size\"] = [x/max(outdegree)*25+50 for x in outdegree]\n",
    "\n",
    "# Set bbox and margin\n",
    "visual_style[\"bbox\"] = (600,600)\n",
    "visual_style[\"margin\"] = 100\n",
    "\n",
    "# Define colors used for outdegree visualization\n",
    "colours = ['#fecc5c', '#a31a1c']\n",
    "\n",
    "# Order vertices in bins based on outdegree\n",
    "bins = np.linspace(0, max(outdegree), len(colours))  \n",
    "digitized_degrees =  np.digitize(outdegree, bins)\n",
    "\n",
    "# Set colors according to bins\n",
    "g.vs[\"color\"] = [colours[x-1] for x in digitized_degrees]\n",
    "\n",
    "# Also color the edges\n",
    "for ind, color in enumerate(g.vs[\"color\"]):\n",
    "        edges = g.es.select(_source=ind)\n",
    "        edges[\"color\"] = [color]\n",
    "        \n",
    "# Don't curve the edges\n",
    "visual_style[\"edge_curved\"] = False\n",
    "\n",
    "# Community detection\n",
    "communities = g.community_edge_betweenness(directed=True)\n",
    "clusters = communities.as_clustering()\n",
    "\n",
    "# Set edge weights based on communities\n",
    "weights = {v: len(c) for c in clusters for v in c}\n",
    "g.es[\"weight\"] = [weights[e.tuple[0]] + weights[e.tuple[1]] for e in g.es]\n",
    "\n",
    "# Choose the layout\n",
    "N = len(vertices)\n",
    "visual_style[\"layout\"] = g.layout_fruchterman_reingold(weights=g.es[\"weight\"], maxiter=1000, area=N**3, repulserad=N**3)\n",
    "        \n",
    "# Plot the graph\n",
    "plot(g, **visual_style)"
   ]
  },
  {
   "cell_type": "markdown",
   "metadata": {},
   "source": [
    "igraph API:"
   ]
  },
  {
   "cell_type": "code",
   "execution_count": 112,
   "metadata": {
    "collapsed": false
   },
   "outputs": [
    {
     "name": "stdout",
     "output_type": "stream",
     "text": [
      "[0, 1, 2]\n",
      "{'name': 0}\n",
      "0\n",
      "igraph.Vertex(<igraph.Graph object at 0x7f8f97360408>, 0, {'name': 0})\n",
      "{'name': 1}\n",
      "1\n",
      "igraph.Vertex(<igraph.Graph object at 0x7f8f97360408>, 1, {'name': 1})\n",
      "{'name': 2}\n",
      "2\n",
      "igraph.Vertex(<igraph.Graph object at 0x7f8f97360408>, 2, {'name': 2})\n",
      "igraph.Vertex(<igraph.Graph object at 0x7f8f97360408>, 0, {'ciao': 0})\n",
      "[0, 1, 2]\n"
     ]
    }
   ],
   "source": [
    "# Ok for some reasons, pop doesn't work (not exactly a dictionary)\n",
    "from igraph import *\n",
    "#http://igraph.org/python/doc/igraph.VertexSeq-class.html#attributes\n",
    "g = Graph()\n",
    "g.add_vertices([0,1,2])\n",
    "print(g.vs.get_attribute_values('name'))\n",
    "for vertex in g.vs:\n",
    "    print(vertex.attributes())\n",
    "    print(vertex.index)\n",
    "    for key in vertex.attributes():\n",
    "        vertex.attributes()[str(vertex.index)] = vertex.attributes().pop(key)\n",
    "    print(vertex)\n",
    "g.vs[0]['ciao']=g.vs[0]['name']\n",
    "del g.vs[0]['name']\n",
    "print(g.vs[0])\n",
    "#List of vertices (index) in the graph \n",
    "vertices = [v.index for v in g.vs]\n",
    "print(vertices)"
   ]
  },
  {
   "cell_type": "code",
   "execution_count": 56,
   "metadata": {
    "collapsed": false
   },
   "outputs": [],
   "source": [
    "#import inspect \n",
    "#inspect.getsourcelines(Graph) \n",
    "# import dill \n",
    "# from dill.source import getsource\n",
    "# print(getsource(g.vs.get_attribute_values('name')))"
   ]
  },
  {
   "cell_type": "code",
   "execution_count": 93,
   "metadata": {
    "collapsed": false
   },
   "outputs": [
    {
     "name": "stdout",
     "output_type": "stream",
     "text": [
      "0\n",
      "0\n",
      "0\n"
     ]
    },
    {
     "data": {
      "text/plain": [
       "0"
      ]
     },
     "execution_count": 93,
     "metadata": {},
     "output_type": "execute_result"
    }
   ],
   "source": [
    "for vertex in g.vs: \n",
    "    print(vertex.degree())\n",
    "g.degree(0)"
   ]
  },
  {
   "cell_type": "markdown",
   "metadata": {},
   "source": [
    "betweenness(vertices=None, directed=True, cutoff=None, weights=None, nobigint=True)\n",
    "\tsource code \n",
    "\n",
    "Calculates or estimates the betweenness of vertices in a graph."
   ]
  },
  {
   "cell_type": "code",
   "execution_count": 94,
   "metadata": {
    "collapsed": false
   },
   "outputs": [
    {
     "data": {
      "text/plain": [
       "0.0"
      ]
     },
     "execution_count": 94,
     "metadata": {},
     "output_type": "execute_result"
    }
   ],
   "source": [
    "g.betweenness(0,1)"
   ]
  },
  {
   "cell_type": "markdown",
   "metadata": {},
   "source": [
    "Getting the number of vertices and edges "
   ]
  },
  {
   "cell_type": "code",
   "execution_count": 106,
   "metadata": {
    "collapsed": false
   },
   "outputs": [
    {
     "name": "stdout",
     "output_type": "stream",
     "text": [
      "3\n",
      "0\n"
     ]
    }
   ],
   "source": [
    "print(g.vcount())\n",
    "print(g.ecount())"
   ]
  },
  {
   "cell_type": "code",
   "execution_count": 109,
   "metadata": {
    "collapsed": false
   },
   "outputs": [
    {
     "data": {
      "text/plain": [
       "{'ciao'}"
      ]
     },
     "execution_count": 109,
     "metadata": {},
     "output_type": "execute_result"
    }
   ],
   "source": [
    "a = set([])\n",
    "a.add('ciao')\n",
    "a"
   ]
  },
  {
   "cell_type": "code",
   "execution_count": null,
   "metadata": {
    "collapsed": false
   },
   "outputs": [],
   "source": []
  },
  {
   "cell_type": "code",
   "execution_count": 147,
   "metadata": {
    "collapsed": false
   },
   "outputs": [
    {
     "name": "stdout",
     "output_type": "stream",
     "text": [
      "The slowest run took 5.33 times longer than the fastest. This could mean that an intermediate result is being cached.\n",
      "1000000 loops, best of 3: 1.13 µs per loop\n"
     ]
    }
   ],
   "source": [
    "from functools import reduce \n",
    "%timeit list(set(reduce(lambda x,y: x+y, [[1,2],[3,4],[1,4]])))"
   ]
  },
  {
   "cell_type": "code",
   "execution_count": 132,
   "metadata": {
    "collapsed": false
   },
   "outputs": [
    {
     "data": {
      "text/plain": [
       "[1, 2, 3, 4]"
      ]
     },
     "execution_count": 132,
     "metadata": {},
     "output_type": "execute_result"
    }
   ],
   "source": [
    "[1,2]+[3,4]"
   ]
  },
  {
   "cell_type": "code",
   "execution_count": 153,
   "metadata": {
    "collapsed": false
   },
   "outputs": [
    {
     "name": "stdout",
     "output_type": "stream",
     "text": [
      "The slowest run took 5.92 times longer than the fastest. This could mean that an intermediate result is being cached.\n",
      "1000000 loops, best of 3: 878 ns per loop\n"
     ]
    }
   ],
   "source": [
    "from itertools import chain \n",
    "%timeit list(set(chain(*[[1,2],[3,4],[1,4]])))"
   ]
  },
  {
   "cell_type": "code",
   "execution_count": 152,
   "metadata": {
    "collapsed": false
   },
   "outputs": [
    {
     "name": "stdout",
     "output_type": "stream",
     "text": [
      "1000000 loops, best of 3: 1.13 µs per loop\n"
     ]
    }
   ],
   "source": [
    "%timeit list(set([item for sublist in [[1,2],[3,4],[1,4]] for item in sublist]))"
   ]
  },
  {
   "cell_type": "code",
   "execution_count": 166,
   "metadata": {
    "collapsed": false
   },
   "outputs": [
    {
     "name": "stdout",
     "output_type": "stream",
     "text": [
      "100000 loops, best of 3: 2.62 µs per loop\n"
     ]
    },
    {
     "data": {
      "text/plain": [
       "{2, 3, 4}"
      ]
     },
     "execution_count": 166,
     "metadata": {},
     "output_type": "execute_result"
    }
   ],
   "source": [
    "def target(lista):\n",
    "    return lista[1]\n",
    "    \n",
    "incident_outward_edges = [[1,2],[1,3],[1,4],[1,6],[2,5],[1,8],[1,0],[1,2],[1,3],[1,4],[1,6],[2,5],[1,8],[1,0]]\n",
    "%timeit targets = set(map(lambda x: target(x), incident_outward_edges))\n",
    "targets"
   ]
  },
  {
   "cell_type": "code",
   "execution_count": 167,
   "metadata": {
    "collapsed": false
   },
   "outputs": [
    {
     "name": "stdout",
     "output_type": "stream",
     "text": [
      "The slowest run took 4.08 times longer than the fastest. This could mean that an intermediate result is being cached.\n",
      "100000 loops, best of 3: 1.99 µs per loop\n"
     ]
    }
   ],
   "source": [
    "%timeit set([target(x) for x in incident_outward_edges])"
   ]
  },
  {
   "cell_type": "code",
   "execution_count": null,
   "metadata": {
    "collapsed": true
   },
   "outputs": [],
   "source": []
  }
 ],
 "metadata": {
  "kernelspec": {
   "display_name": "Python 3",
   "language": "python",
   "name": "python3"
  },
  "language_info": {
   "codemirror_mode": {
    "name": "ipython",
    "version": 3
   },
   "file_extension": ".py",
   "mimetype": "text/x-python",
   "name": "python",
   "nbconvert_exporter": "python",
   "pygments_lexer": "ipython3",
   "version": "3.5.2"
  },
  "latex_envs": {
   "LaTeX_envs_menu_present": true,
   "autocomplete": true,
   "bibliofile": "biblio.bib",
   "cite_by": "apalike",
   "current_citInitial": 1,
   "eqLabelWithNumbers": true,
   "eqNumInitial": 1,
   "hotkeys": {
    "equation": "Ctrl-E",
    "itemize": "Ctrl-I"
   },
   "labels_anchors": false,
   "latex_user_defs": false,
   "report_style_numbering": false,
   "user_envs_cfg": false
  }
 },
 "nbformat": 4,
 "nbformat_minor": 2
}
